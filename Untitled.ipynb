{
 "cells": [
  {
   "cell_type": "markdown",
   "id": "213e3f25",
   "metadata": {},
   "source": [
    "Importing Libraries that we will be using while doing this projects."
   ]
  },
  {
   "cell_type": "code",
   "execution_count": 98,
   "id": "0345a8a5",
   "metadata": {},
   "outputs": [],
   "source": [
    "import pandas as pd\n",
    "import numpy as np\n",
    "import os \n",
    "import opendatasets as od\n",
    "import warnings\n",
    "warnings.filterwarnings(\"ignore\")"
   ]
  },
  {
   "cell_type": "markdown",
   "id": "8451167f",
   "metadata": {},
   "source": [
    "Importing datasets directly from kaggle website that we will be using doing this project"
   ]
  },
  {
   "cell_type": "code",
   "execution_count": 99,
   "id": "607b24d7",
   "metadata": {},
   "outputs": [],
   "source": [
    "datasets='https://www.kaggle.com/datasets/arashnic/book-recommendation-dataset/data'"
   ]
  },
  {
   "cell_type": "code",
   "execution_count": 100,
   "id": "5d5e8d40",
   "metadata": {},
   "outputs": [
    {
     "name": "stdout",
     "output_type": "stream",
     "text": [
      "Skipping, found downloaded files in \".\\book-recommendation-dataset\" (use force=True to force download)\n"
     ]
    }
   ],
   "source": [
    "od.download(datasets)"
   ]
  },
  {
   "cell_type": "code",
   "execution_count": 101,
   "id": "83cd1af1",
   "metadata": {},
   "outputs": [],
   "source": [
    "data_dir='.\\\\book-recommendation-dataset'"
   ]
  },
  {
   "cell_type": "code",
   "execution_count": 102,
   "id": "a8ce3609",
   "metadata": {},
   "outputs": [
    {
     "data": {
      "text/plain": [
       "['Books.csv', 'Ratings.csv', 'recsys_taxonomy2.png', 'Users.csv']"
      ]
     },
     "execution_count": 102,
     "metadata": {},
     "output_type": "execute_result"
    }
   ],
   "source": [
    "os.listdir(data_dir)"
   ]
  },
  {
   "cell_type": "code",
   "execution_count": 103,
   "id": "b2557304",
   "metadata": {},
   "outputs": [],
   "source": [
    "books_data=pd.read_csv('book-recommendation-dataset\\Books.csv')"
   ]
  },
  {
   "cell_type": "code",
   "execution_count": 104,
   "id": "d8f3168c",
   "metadata": {},
   "outputs": [],
   "source": [
    "ratings_data=pd.read_csv('book-recommendation-dataset\\Ratings.csv')"
   ]
  },
  {
   "cell_type": "code",
   "execution_count": 105,
   "id": "33772953",
   "metadata": {},
   "outputs": [],
   "source": [
    "users_data=pd.read_csv('book-recommendation-dataset\\\\Users.csv')"
   ]
  },
  {
   "cell_type": "code",
   "execution_count": 106,
   "id": "28a3580a",
   "metadata": {},
   "outputs": [
    {
     "data": {
      "text/html": [
       "<div>\n",
       "<style scoped>\n",
       "    .dataframe tbody tr th:only-of-type {\n",
       "        vertical-align: middle;\n",
       "    }\n",
       "\n",
       "    .dataframe tbody tr th {\n",
       "        vertical-align: top;\n",
       "    }\n",
       "\n",
       "    .dataframe thead th {\n",
       "        text-align: right;\n",
       "    }\n",
       "</style>\n",
       "<table border=\"1\" class=\"dataframe\">\n",
       "  <thead>\n",
       "    <tr style=\"text-align: right;\">\n",
       "      <th></th>\n",
       "      <th>User-ID</th>\n",
       "      <th>ISBN</th>\n",
       "      <th>Book-Rating</th>\n",
       "    </tr>\n",
       "  </thead>\n",
       "  <tbody>\n",
       "    <tr>\n",
       "      <th>0</th>\n",
       "      <td>276725</td>\n",
       "      <td>034545104X</td>\n",
       "      <td>0</td>\n",
       "    </tr>\n",
       "    <tr>\n",
       "      <th>1</th>\n",
       "      <td>276726</td>\n",
       "      <td>0155061224</td>\n",
       "      <td>5</td>\n",
       "    </tr>\n",
       "    <tr>\n",
       "      <th>2</th>\n",
       "      <td>276727</td>\n",
       "      <td>0446520802</td>\n",
       "      <td>0</td>\n",
       "    </tr>\n",
       "    <tr>\n",
       "      <th>3</th>\n",
       "      <td>276729</td>\n",
       "      <td>052165615X</td>\n",
       "      <td>3</td>\n",
       "    </tr>\n",
       "    <tr>\n",
       "      <th>4</th>\n",
       "      <td>276729</td>\n",
       "      <td>0521795028</td>\n",
       "      <td>6</td>\n",
       "    </tr>\n",
       "  </tbody>\n",
       "</table>\n",
       "</div>"
      ],
      "text/plain": [
       "   User-ID        ISBN  Book-Rating\n",
       "0   276725  034545104X            0\n",
       "1   276726  0155061224            5\n",
       "2   276727  0446520802            0\n",
       "3   276729  052165615X            3\n",
       "4   276729  0521795028            6"
      ]
     },
     "execution_count": 106,
     "metadata": {},
     "output_type": "execute_result"
    }
   ],
   "source": [
    "ratings_data.head()"
   ]
  },
  {
   "cell_type": "code",
   "execution_count": 107,
   "id": "41e7ab3c",
   "metadata": {},
   "outputs": [
    {
     "data": {
      "text/html": [
       "<div>\n",
       "<style scoped>\n",
       "    .dataframe tbody tr th:only-of-type {\n",
       "        vertical-align: middle;\n",
       "    }\n",
       "\n",
       "    .dataframe tbody tr th {\n",
       "        vertical-align: top;\n",
       "    }\n",
       "\n",
       "    .dataframe thead th {\n",
       "        text-align: right;\n",
       "    }\n",
       "</style>\n",
       "<table border=\"1\" class=\"dataframe\">\n",
       "  <thead>\n",
       "    <tr style=\"text-align: right;\">\n",
       "      <th></th>\n",
       "      <th>User-ID</th>\n",
       "      <th>Location</th>\n",
       "      <th>Age</th>\n",
       "    </tr>\n",
       "  </thead>\n",
       "  <tbody>\n",
       "    <tr>\n",
       "      <th>0</th>\n",
       "      <td>1</td>\n",
       "      <td>nyc, new york, usa</td>\n",
       "      <td>NaN</td>\n",
       "    </tr>\n",
       "    <tr>\n",
       "      <th>1</th>\n",
       "      <td>2</td>\n",
       "      <td>stockton, california, usa</td>\n",
       "      <td>18.0</td>\n",
       "    </tr>\n",
       "    <tr>\n",
       "      <th>2</th>\n",
       "      <td>3</td>\n",
       "      <td>moscow, yukon territory, russia</td>\n",
       "      <td>NaN</td>\n",
       "    </tr>\n",
       "    <tr>\n",
       "      <th>3</th>\n",
       "      <td>4</td>\n",
       "      <td>porto, v.n.gaia, portugal</td>\n",
       "      <td>17.0</td>\n",
       "    </tr>\n",
       "    <tr>\n",
       "      <th>4</th>\n",
       "      <td>5</td>\n",
       "      <td>farnborough, hants, united kingdom</td>\n",
       "      <td>NaN</td>\n",
       "    </tr>\n",
       "  </tbody>\n",
       "</table>\n",
       "</div>"
      ],
      "text/plain": [
       "   User-ID                            Location   Age\n",
       "0        1                  nyc, new york, usa   NaN\n",
       "1        2           stockton, california, usa  18.0\n",
       "2        3     moscow, yukon territory, russia   NaN\n",
       "3        4           porto, v.n.gaia, portugal  17.0\n",
       "4        5  farnborough, hants, united kingdom   NaN"
      ]
     },
     "execution_count": 107,
     "metadata": {},
     "output_type": "execute_result"
    }
   ],
   "source": [
    "users_data.head()"
   ]
  },
  {
   "cell_type": "markdown",
   "id": "c35f5b6b",
   "metadata": {},
   "source": [
    "Lets do some analysis of the given data."
   ]
  },
  {
   "cell_type": "code",
   "execution_count": 108,
   "id": "1f4fd288",
   "metadata": {},
   "outputs": [
    {
     "data": {
      "text/html": [
       "<div>\n",
       "<style scoped>\n",
       "    .dataframe tbody tr th:only-of-type {\n",
       "        vertical-align: middle;\n",
       "    }\n",
       "\n",
       "    .dataframe tbody tr th {\n",
       "        vertical-align: top;\n",
       "    }\n",
       "\n",
       "    .dataframe thead th {\n",
       "        text-align: right;\n",
       "    }\n",
       "</style>\n",
       "<table border=\"1\" class=\"dataframe\">\n",
       "  <thead>\n",
       "    <tr style=\"text-align: right;\">\n",
       "      <th></th>\n",
       "      <th>ISBN</th>\n",
       "      <th>Book-Title</th>\n",
       "      <th>Book-Author</th>\n",
       "      <th>Year-Of-Publication</th>\n",
       "      <th>Publisher</th>\n",
       "      <th>Image-URL-S</th>\n",
       "      <th>Image-URL-M</th>\n",
       "      <th>Image-URL-L</th>\n",
       "    </tr>\n",
       "  </thead>\n",
       "  <tbody>\n",
       "    <tr>\n",
       "      <th>0</th>\n",
       "      <td>0195153448</td>\n",
       "      <td>Classical Mythology</td>\n",
       "      <td>Mark P. O. Morford</td>\n",
       "      <td>2002</td>\n",
       "      <td>Oxford University Press</td>\n",
       "      <td>http://images.amazon.com/images/P/0195153448.0...</td>\n",
       "      <td>http://images.amazon.com/images/P/0195153448.0...</td>\n",
       "      <td>http://images.amazon.com/images/P/0195153448.0...</td>\n",
       "    </tr>\n",
       "    <tr>\n",
       "      <th>1</th>\n",
       "      <td>0002005018</td>\n",
       "      <td>Clara Callan</td>\n",
       "      <td>Richard Bruce Wright</td>\n",
       "      <td>2001</td>\n",
       "      <td>HarperFlamingo Canada</td>\n",
       "      <td>http://images.amazon.com/images/P/0002005018.0...</td>\n",
       "      <td>http://images.amazon.com/images/P/0002005018.0...</td>\n",
       "      <td>http://images.amazon.com/images/P/0002005018.0...</td>\n",
       "    </tr>\n",
       "    <tr>\n",
       "      <th>2</th>\n",
       "      <td>0060973129</td>\n",
       "      <td>Decision in Normandy</td>\n",
       "      <td>Carlo D'Este</td>\n",
       "      <td>1991</td>\n",
       "      <td>HarperPerennial</td>\n",
       "      <td>http://images.amazon.com/images/P/0060973129.0...</td>\n",
       "      <td>http://images.amazon.com/images/P/0060973129.0...</td>\n",
       "      <td>http://images.amazon.com/images/P/0060973129.0...</td>\n",
       "    </tr>\n",
       "    <tr>\n",
       "      <th>3</th>\n",
       "      <td>0374157065</td>\n",
       "      <td>Flu: The Story of the Great Influenza Pandemic...</td>\n",
       "      <td>Gina Bari Kolata</td>\n",
       "      <td>1999</td>\n",
       "      <td>Farrar Straus Giroux</td>\n",
       "      <td>http://images.amazon.com/images/P/0374157065.0...</td>\n",
       "      <td>http://images.amazon.com/images/P/0374157065.0...</td>\n",
       "      <td>http://images.amazon.com/images/P/0374157065.0...</td>\n",
       "    </tr>\n",
       "    <tr>\n",
       "      <th>4</th>\n",
       "      <td>0393045218</td>\n",
       "      <td>The Mummies of Urumchi</td>\n",
       "      <td>E. J. W. Barber</td>\n",
       "      <td>1999</td>\n",
       "      <td>W. W. Norton &amp;amp; Company</td>\n",
       "      <td>http://images.amazon.com/images/P/0393045218.0...</td>\n",
       "      <td>http://images.amazon.com/images/P/0393045218.0...</td>\n",
       "      <td>http://images.amazon.com/images/P/0393045218.0...</td>\n",
       "    </tr>\n",
       "  </tbody>\n",
       "</table>\n",
       "</div>"
      ],
      "text/plain": [
       "         ISBN                                         Book-Title  \\\n",
       "0  0195153448                                Classical Mythology   \n",
       "1  0002005018                                       Clara Callan   \n",
       "2  0060973129                               Decision in Normandy   \n",
       "3  0374157065  Flu: The Story of the Great Influenza Pandemic...   \n",
       "4  0393045218                             The Mummies of Urumchi   \n",
       "\n",
       "            Book-Author Year-Of-Publication                   Publisher  \\\n",
       "0    Mark P. O. Morford                2002     Oxford University Press   \n",
       "1  Richard Bruce Wright                2001       HarperFlamingo Canada   \n",
       "2          Carlo D'Este                1991             HarperPerennial   \n",
       "3      Gina Bari Kolata                1999        Farrar Straus Giroux   \n",
       "4       E. J. W. Barber                1999  W. W. Norton &amp; Company   \n",
       "\n",
       "                                         Image-URL-S  \\\n",
       "0  http://images.amazon.com/images/P/0195153448.0...   \n",
       "1  http://images.amazon.com/images/P/0002005018.0...   \n",
       "2  http://images.amazon.com/images/P/0060973129.0...   \n",
       "3  http://images.amazon.com/images/P/0374157065.0...   \n",
       "4  http://images.amazon.com/images/P/0393045218.0...   \n",
       "\n",
       "                                         Image-URL-M  \\\n",
       "0  http://images.amazon.com/images/P/0195153448.0...   \n",
       "1  http://images.amazon.com/images/P/0002005018.0...   \n",
       "2  http://images.amazon.com/images/P/0060973129.0...   \n",
       "3  http://images.amazon.com/images/P/0374157065.0...   \n",
       "4  http://images.amazon.com/images/P/0393045218.0...   \n",
       "\n",
       "                                         Image-URL-L  \n",
       "0  http://images.amazon.com/images/P/0195153448.0...  \n",
       "1  http://images.amazon.com/images/P/0002005018.0...  \n",
       "2  http://images.amazon.com/images/P/0060973129.0...  \n",
       "3  http://images.amazon.com/images/P/0374157065.0...  \n",
       "4  http://images.amazon.com/images/P/0393045218.0...  "
      ]
     },
     "execution_count": 108,
     "metadata": {},
     "output_type": "execute_result"
    }
   ],
   "source": [
    "#Lets start with books data\n",
    "books_data.head()"
   ]
  },
  {
   "cell_type": "code",
   "execution_count": 109,
   "id": "87996c68",
   "metadata": {},
   "outputs": [],
   "source": [
    "#Here firstly lets change and save the changed  titles of the columns so that it will be easier for us to acess it .\n",
    "\n",
    "books_data.rename(columns=({\n",
    "    'Book-Title':'title',\n",
    "    'Book-Author':'author',\n",
    "    'Year-Of-Publication':'publication',\n",
    "    'Image-URL-L':'image'\n",
    "}),inplace=True)"
   ]
  },
  {
   "cell_type": "markdown",
   "id": "1ddf763b",
   "metadata": {},
   "source": [
    "here we can see there are 3 images url it is not compoulsory to keep three of them one is enough so lets\n",
    "take any one of them ie large"
   ]
  },
  {
   "cell_type": "code",
   "execution_count": 110,
   "id": "4c710c59",
   "metadata": {},
   "outputs": [],
   "source": [
    "books_data=books_data.drop(['Image-URL-S','Image-URL-M'],axis =1)"
   ]
  },
  {
   "cell_type": "code",
   "execution_count": 111,
   "id": "aace8ad2",
   "metadata": {},
   "outputs": [
    {
     "data": {
      "text/html": [
       "<div>\n",
       "<style scoped>\n",
       "    .dataframe tbody tr th:only-of-type {\n",
       "        vertical-align: middle;\n",
       "    }\n",
       "\n",
       "    .dataframe tbody tr th {\n",
       "        vertical-align: top;\n",
       "    }\n",
       "\n",
       "    .dataframe thead th {\n",
       "        text-align: right;\n",
       "    }\n",
       "</style>\n",
       "<table border=\"1\" class=\"dataframe\">\n",
       "  <thead>\n",
       "    <tr style=\"text-align: right;\">\n",
       "      <th></th>\n",
       "      <th>ISBN</th>\n",
       "      <th>title</th>\n",
       "      <th>author</th>\n",
       "      <th>publication</th>\n",
       "      <th>Publisher</th>\n",
       "      <th>image</th>\n",
       "    </tr>\n",
       "  </thead>\n",
       "  <tbody>\n",
       "    <tr>\n",
       "      <th>0</th>\n",
       "      <td>0195153448</td>\n",
       "      <td>Classical Mythology</td>\n",
       "      <td>Mark P. O. Morford</td>\n",
       "      <td>2002</td>\n",
       "      <td>Oxford University Press</td>\n",
       "      <td>http://images.amazon.com/images/P/0195153448.0...</td>\n",
       "    </tr>\n",
       "  </tbody>\n",
       "</table>\n",
       "</div>"
      ],
      "text/plain": [
       "         ISBN                title              author publication  \\\n",
       "0  0195153448  Classical Mythology  Mark P. O. Morford        2002   \n",
       "\n",
       "                 Publisher                                              image  \n",
       "0  Oxford University Press  http://images.amazon.com/images/P/0195153448.0...  "
      ]
     },
     "execution_count": 111,
     "metadata": {},
     "output_type": "execute_result"
    }
   ],
   "source": [
    "books_data.head(1)"
   ]
  },
  {
   "cell_type": "code",
   "execution_count": 112,
   "id": "af72056a",
   "metadata": {},
   "outputs": [],
   "source": [
    "#it is looking neet and clean isnt is?"
   ]
  },
  {
   "cell_type": "code",
   "execution_count": 114,
   "id": "f9b0df4e",
   "metadata": {},
   "outputs": [
    {
     "data": {
      "text/plain": [
       "(271360, 6)"
      ]
     },
     "execution_count": 114,
     "metadata": {},
     "output_type": "execute_result"
    }
   ],
   "source": [
    "books_data.shape"
   ]
  },
  {
   "cell_type": "code",
   "execution_count": 125,
   "id": "4733d211",
   "metadata": {},
   "outputs": [],
   "source": [
    "#there are more than 2.5lacs books.\n",
    "#lets now see Users data"
   ]
  },
  {
   "cell_type": "code",
   "execution_count": 127,
   "id": "96235ec9",
   "metadata": {},
   "outputs": [
    {
     "data": {
      "text/html": [
       "<div>\n",
       "<style scoped>\n",
       "    .dataframe tbody tr th:only-of-type {\n",
       "        vertical-align: middle;\n",
       "    }\n",
       "\n",
       "    .dataframe tbody tr th {\n",
       "        vertical-align: top;\n",
       "    }\n",
       "\n",
       "    .dataframe thead th {\n",
       "        text-align: right;\n",
       "    }\n",
       "</style>\n",
       "<table border=\"1\" class=\"dataframe\">\n",
       "  <thead>\n",
       "    <tr style=\"text-align: right;\">\n",
       "      <th></th>\n",
       "      <th>User-ID</th>\n",
       "      <th>Location</th>\n",
       "      <th>Age</th>\n",
       "    </tr>\n",
       "  </thead>\n",
       "  <tbody>\n",
       "    <tr>\n",
       "      <th>0</th>\n",
       "      <td>1</td>\n",
       "      <td>nyc, new york, usa</td>\n",
       "      <td>NaN</td>\n",
       "    </tr>\n",
       "    <tr>\n",
       "      <th>1</th>\n",
       "      <td>2</td>\n",
       "      <td>stockton, california, usa</td>\n",
       "      <td>18.0</td>\n",
       "    </tr>\n",
       "    <tr>\n",
       "      <th>2</th>\n",
       "      <td>3</td>\n",
       "      <td>moscow, yukon territory, russia</td>\n",
       "      <td>NaN</td>\n",
       "    </tr>\n",
       "    <tr>\n",
       "      <th>3</th>\n",
       "      <td>4</td>\n",
       "      <td>porto, v.n.gaia, portugal</td>\n",
       "      <td>17.0</td>\n",
       "    </tr>\n",
       "    <tr>\n",
       "      <th>4</th>\n",
       "      <td>5</td>\n",
       "      <td>farnborough, hants, united kingdom</td>\n",
       "      <td>NaN</td>\n",
       "    </tr>\n",
       "  </tbody>\n",
       "</table>\n",
       "</div>"
      ],
      "text/plain": [
       "   User-ID                            Location   Age\n",
       "0        1                  nyc, new york, usa   NaN\n",
       "1        2           stockton, california, usa  18.0\n",
       "2        3     moscow, yukon territory, russia   NaN\n",
       "3        4           porto, v.n.gaia, portugal  17.0\n",
       "4        5  farnborough, hants, united kingdom   NaN"
      ]
     },
     "execution_count": 127,
     "metadata": {},
     "output_type": "execute_result"
    }
   ],
   "source": [
    "users_data.head()"
   ]
  },
  {
   "cell_type": "code",
   "execution_count": 129,
   "id": "d771a641",
   "metadata": {},
   "outputs": [],
   "source": [
    "#lets change the columns name of userid and save it"
   ]
  },
  {
   "cell_type": "code",
   "execution_count": 132,
   "id": "0065e110",
   "metadata": {},
   "outputs": [],
   "source": [
    "users_data.rename(columns={\n",
    "    'User-ID':'user_id'\n",
    "},inplace=True)"
   ]
  },
  {
   "cell_type": "code",
   "execution_count": 134,
   "id": "eeaac21c",
   "metadata": {},
   "outputs": [
    {
     "data": {
      "text/plain": [
       "(278858, 3)"
      ]
     },
     "execution_count": 134,
     "metadata": {},
     "output_type": "execute_result"
    }
   ],
   "source": [
    "users_data.shape"
   ]
  },
  {
   "cell_type": "markdown",
   "id": "958e8186",
   "metadata": {},
   "source": [
    "From this we can see there are some missing values in ourdatasets we will be handeling it later "
   ]
  },
  {
   "cell_type": "code",
   "execution_count": 137,
   "id": "4e8820d9",
   "metadata": {},
   "outputs": [
    {
     "data": {
      "text/html": [
       "<div>\n",
       "<style scoped>\n",
       "    .dataframe tbody tr th:only-of-type {\n",
       "        vertical-align: middle;\n",
       "    }\n",
       "\n",
       "    .dataframe tbody tr th {\n",
       "        vertical-align: top;\n",
       "    }\n",
       "\n",
       "    .dataframe thead th {\n",
       "        text-align: right;\n",
       "    }\n",
       "</style>\n",
       "<table border=\"1\" class=\"dataframe\">\n",
       "  <thead>\n",
       "    <tr style=\"text-align: right;\">\n",
       "      <th></th>\n",
       "      <th>user_id</th>\n",
       "      <th>ISBN</th>\n",
       "      <th>ratings</th>\n",
       "    </tr>\n",
       "  </thead>\n",
       "  <tbody>\n",
       "    <tr>\n",
       "      <th>0</th>\n",
       "      <td>276725</td>\n",
       "      <td>034545104X</td>\n",
       "      <td>0</td>\n",
       "    </tr>\n",
       "    <tr>\n",
       "      <th>1</th>\n",
       "      <td>276726</td>\n",
       "      <td>0155061224</td>\n",
       "      <td>5</td>\n",
       "    </tr>\n",
       "    <tr>\n",
       "      <th>2</th>\n",
       "      <td>276727</td>\n",
       "      <td>0446520802</td>\n",
       "      <td>0</td>\n",
       "    </tr>\n",
       "    <tr>\n",
       "      <th>3</th>\n",
       "      <td>276729</td>\n",
       "      <td>052165615X</td>\n",
       "      <td>3</td>\n",
       "    </tr>\n",
       "    <tr>\n",
       "      <th>4</th>\n",
       "      <td>276729</td>\n",
       "      <td>0521795028</td>\n",
       "      <td>6</td>\n",
       "    </tr>\n",
       "  </tbody>\n",
       "</table>\n",
       "</div>"
      ],
      "text/plain": [
       "   user_id        ISBN  ratings\n",
       "0   276725  034545104X        0\n",
       "1   276726  0155061224        5\n",
       "2   276727  0446520802        0\n",
       "3   276729  052165615X        3\n",
       "4   276729  0521795028        6"
      ]
     },
     "execution_count": 137,
     "metadata": {},
     "output_type": "execute_result"
    }
   ],
   "source": [
    "ratings_data.head()"
   ]
  },
  {
   "cell_type": "code",
   "execution_count": 138,
   "id": "239a9719",
   "metadata": {},
   "outputs": [],
   "source": [
    "#lets change it columns name also and save it."
   ]
  },
  {
   "cell_type": "code",
   "execution_count": 119,
   "id": "6de6d1dc",
   "metadata": {},
   "outputs": [],
   "source": [
    "ratings_data.rename(columns={\n",
    "    'User-ID':'user_id',\n",
    "    'Book-Rating':'ratings'\n",
    "},inplace=True)"
   ]
  },
  {
   "cell_type": "code",
   "execution_count": 120,
   "id": "a2acf5f6",
   "metadata": {},
   "outputs": [
    {
     "data": {
      "text/html": [
       "<div>\n",
       "<style scoped>\n",
       "    .dataframe tbody tr th:only-of-type {\n",
       "        vertical-align: middle;\n",
       "    }\n",
       "\n",
       "    .dataframe tbody tr th {\n",
       "        vertical-align: top;\n",
       "    }\n",
       "\n",
       "    .dataframe thead th {\n",
       "        text-align: right;\n",
       "    }\n",
       "</style>\n",
       "<table border=\"1\" class=\"dataframe\">\n",
       "  <thead>\n",
       "    <tr style=\"text-align: right;\">\n",
       "      <th></th>\n",
       "      <th>user_id</th>\n",
       "      <th>ISBN</th>\n",
       "      <th>ratings</th>\n",
       "    </tr>\n",
       "  </thead>\n",
       "  <tbody>\n",
       "    <tr>\n",
       "      <th>0</th>\n",
       "      <td>276725</td>\n",
       "      <td>034545104X</td>\n",
       "      <td>0</td>\n",
       "    </tr>\n",
       "  </tbody>\n",
       "</table>\n",
       "</div>"
      ],
      "text/plain": [
       "   user_id        ISBN  ratings\n",
       "0   276725  034545104X        0"
      ]
     },
     "execution_count": 120,
     "metadata": {},
     "output_type": "execute_result"
    }
   ],
   "source": [
    "ratings_data.head(1)"
   ]
  },
  {
   "cell_type": "code",
   "execution_count": 123,
   "id": "cb84e73c",
   "metadata": {},
   "outputs": [
    {
     "data": {
      "text/plain": [
       "(1149780, 3)"
      ]
     },
     "execution_count": 123,
     "metadata": {},
     "output_type": "execute_result"
    }
   ],
   "source": [
    "ratings_data.shape"
   ]
  },
  {
   "cell_type": "markdown",
   "id": "54ea13c0",
   "metadata": {},
   "source": [
    "ratings data is more than that of the books this can be because one users can rate the multiple books lets\n",
    "find it out"
   ]
  },
  {
   "cell_type": "code",
   "execution_count": 139,
   "id": "33a2df07",
   "metadata": {},
   "outputs": [],
   "source": [
    "# lets see how many users has rated how many times"
   ]
  },
  {
   "cell_type": "code",
   "execution_count": 145,
   "id": "c1fd869f",
   "metadata": {},
   "outputs": [
    {
     "data": {
      "text/plain": [
       "11676     13602\n",
       "198711     7550\n",
       "153662     6109\n",
       "98391      5891\n",
       "35859      5850\n",
       "          ...  \n",
       "116180        1\n",
       "116166        1\n",
       "116154        1\n",
       "116137        1\n",
       "276723        1\n",
       "Name: user_id, Length: 105283, dtype: int64"
      ]
     },
     "execution_count": 145,
     "metadata": {},
     "output_type": "execute_result"
    }
   ],
   "source": [
    "ratings_data['user_id'].value_counts()"
   ]
  },
  {
   "cell_type": "markdown",
   "id": "a361cd06",
   "metadata": {},
   "source": [
    "here we can clearly see that one users has rated more than 13k times and some have rated only one times\n",
    "so we can take a users that has rated at least certain times/books so that our model can perform well and reduces curse of dimensionlaity.we will be following the following steps"
   ]
  },
  {
   "cell_type": "code",
   "execution_count": 146,
   "id": "ace43148",
   "metadata": {},
   "outputs": [],
   "source": [
    "#firstly we will be finding the users who has done at least 100 ratings and we will be updating the raitng_data accordingle\n",
    "#second we will be merging that updated rating columns into the books_data.\n",
    "#And we will be finding which books has got how many ratings and will be not taking which has got not pretty much less rating\n",
    "#Lastely we will be updating the final data accordingly."
   ]
  },
  {
   "cell_type": "code",
   "execution_count": 149,
   "id": "83b6e025",
   "metadata": {},
   "outputs": [],
   "source": [
    "A=ratings_data['user_id'].value_counts()>100"
   ]
  },
  {
   "cell_type": "code",
   "execution_count": 155,
   "id": "f707800b",
   "metadata": {},
   "outputs": [
    {
     "data": {
      "text/plain": [
       "(1825,)"
      ]
     },
     "execution_count": 155,
     "metadata": {},
     "output_type": "execute_result"
    }
   ],
   "source": [
    "A[A].shape"
   ]
  },
  {
   "cell_type": "code",
   "execution_count": 156,
   "id": "5d581a69",
   "metadata": {},
   "outputs": [
    {
     "data": {
      "text/plain": [
       "(105283,)"
      ]
     },
     "execution_count": 156,
     "metadata": {},
     "output_type": "execute_result"
    }
   ],
   "source": [
    "A.shape"
   ]
  },
  {
   "cell_type": "code",
   "execution_count": 157,
   "id": "5d63e671",
   "metadata": {},
   "outputs": [],
   "source": [
    "#we can see that  only 1825 people has done rating more than 100 times\n",
    "#lets find out it index of peope who has rated more than 100 time and merge in our rating datasets"
   ]
  },
  {
   "cell_type": "code",
   "execution_count": 159,
   "id": "67b0632f",
   "metadata": {},
   "outputs": [],
   "source": [
    "B=A[A].index"
   ]
  },
  {
   "cell_type": "code",
   "execution_count": 160,
   "id": "f502964a",
   "metadata": {},
   "outputs": [
    {
     "data": {
      "text/plain": [
       "Int64Index([ 11676, 198711, 153662,  98391,  35859, 212898, 278418,  76352,\n",
       "            110973, 235105,\n",
       "            ...\n",
       "            238186,  99441, 187410, 262070,  70183,  40553,  39345, 266283,\n",
       "            189666, 140879],\n",
       "           dtype='int64', length=1825)"
      ]
     },
     "execution_count": 160,
     "metadata": {},
     "output_type": "execute_result"
    }
   ],
   "source": [
    "B"
   ]
  },
  {
   "cell_type": "code",
   "execution_count": 162,
   "id": "e5a1ceeb",
   "metadata": {},
   "outputs": [],
   "source": [
    "ratings_data=ratings_data[ratings_data['user_id'].isin (B)]"
   ]
  },
  {
   "cell_type": "code",
   "execution_count": 163,
   "id": "cf3bff56",
   "metadata": {},
   "outputs": [
    {
     "data": {
      "text/html": [
       "<div>\n",
       "<style scoped>\n",
       "    .dataframe tbody tr th:only-of-type {\n",
       "        vertical-align: middle;\n",
       "    }\n",
       "\n",
       "    .dataframe tbody tr th {\n",
       "        vertical-align: top;\n",
       "    }\n",
       "\n",
       "    .dataframe thead th {\n",
       "        text-align: right;\n",
       "    }\n",
       "</style>\n",
       "<table border=\"1\" class=\"dataframe\">\n",
       "  <thead>\n",
       "    <tr style=\"text-align: right;\">\n",
       "      <th></th>\n",
       "      <th>user_id</th>\n",
       "      <th>ISBN</th>\n",
       "      <th>ratings</th>\n",
       "    </tr>\n",
       "  </thead>\n",
       "  <tbody>\n",
       "    <tr>\n",
       "      <th>412</th>\n",
       "      <td>276925</td>\n",
       "      <td>0006511929</td>\n",
       "      <td>0</td>\n",
       "    </tr>\n",
       "    <tr>\n",
       "      <th>413</th>\n",
       "      <td>276925</td>\n",
       "      <td>002542730X</td>\n",
       "      <td>10</td>\n",
       "    </tr>\n",
       "    <tr>\n",
       "      <th>414</th>\n",
       "      <td>276925</td>\n",
       "      <td>0060520507</td>\n",
       "      <td>0</td>\n",
       "    </tr>\n",
       "    <tr>\n",
       "      <th>415</th>\n",
       "      <td>276925</td>\n",
       "      <td>0060930934</td>\n",
       "      <td>0</td>\n",
       "    </tr>\n",
       "    <tr>\n",
       "      <th>416</th>\n",
       "      <td>276925</td>\n",
       "      <td>0060951303</td>\n",
       "      <td>0</td>\n",
       "    </tr>\n",
       "    <tr>\n",
       "      <th>...</th>\n",
       "      <td>...</td>\n",
       "      <td>...</td>\n",
       "      <td>...</td>\n",
       "    </tr>\n",
       "    <tr>\n",
       "      <th>1149633</th>\n",
       "      <td>276680</td>\n",
       "      <td>1884910033</td>\n",
       "      <td>0</td>\n",
       "    </tr>\n",
       "    <tr>\n",
       "      <th>1149634</th>\n",
       "      <td>276680</td>\n",
       "      <td>1888173408</td>\n",
       "      <td>7</td>\n",
       "    </tr>\n",
       "    <tr>\n",
       "      <th>1149635</th>\n",
       "      <td>276680</td>\n",
       "      <td>1888173564</td>\n",
       "      <td>8</td>\n",
       "    </tr>\n",
       "    <tr>\n",
       "      <th>1149636</th>\n",
       "      <td>276680</td>\n",
       "      <td>1888173572</td>\n",
       "      <td>0</td>\n",
       "    </tr>\n",
       "    <tr>\n",
       "      <th>1149637</th>\n",
       "      <td>276680</td>\n",
       "      <td>1931561648</td>\n",
       "      <td>9</td>\n",
       "    </tr>\n",
       "  </tbody>\n",
       "</table>\n",
       "<p>656605 rows × 3 columns</p>\n",
       "</div>"
      ],
      "text/plain": [
       "         user_id        ISBN  ratings\n",
       "412       276925  0006511929        0\n",
       "413       276925  002542730X       10\n",
       "414       276925  0060520507        0\n",
       "415       276925  0060930934        0\n",
       "416       276925  0060951303        0\n",
       "...          ...         ...      ...\n",
       "1149633   276680  1884910033        0\n",
       "1149634   276680  1888173408        7\n",
       "1149635   276680  1888173564        8\n",
       "1149636   276680  1888173572        0\n",
       "1149637   276680  1931561648        9\n",
       "\n",
       "[656605 rows x 3 columns]"
      ]
     },
     "execution_count": 163,
     "metadata": {},
     "output_type": "execute_result"
    }
   ],
   "source": [
    "ratings_data"
   ]
  },
  {
   "cell_type": "code",
   "execution_count": 165,
   "id": "ac09bd43",
   "metadata": {},
   "outputs": [],
   "source": [
    "#lets cross check it"
   ]
  },
  {
   "cell_type": "code",
   "execution_count": 166,
   "id": "5ed959aa",
   "metadata": {},
   "outputs": [
    {
     "data": {
      "text/plain": [
       "11676     13602\n",
       "198711     7550\n",
       "153662     6109\n",
       "98391      5891\n",
       "35859      5850\n",
       "          ...  \n",
       "70183       101\n",
       "65584       101\n",
       "238186      101\n",
       "39345       101\n",
       "20119       101\n",
       "Name: user_id, Length: 1825, dtype: int64"
      ]
     },
     "execution_count": 166,
     "metadata": {},
     "output_type": "execute_result"
    }
   ],
   "source": [
    "ratings_data['user_id'].value_counts()"
   ]
  },
  {
   "cell_type": "code",
   "execution_count": 167,
   "id": "4560546c",
   "metadata": {},
   "outputs": [
    {
     "data": {
      "text/plain": [
       "(656605, 3)"
      ]
     },
     "execution_count": 167,
     "metadata": {},
     "output_type": "execute_result"
    }
   ],
   "source": [
    "ratings_data.shape"
   ]
  },
  {
   "cell_type": "code",
   "execution_count": 168,
   "id": "2fb90e35",
   "metadata": {},
   "outputs": [],
   "source": [
    "#we can see now our ratings data compressed to around 6lac"
   ]
  },
  {
   "cell_type": "markdown",
   "id": "b9f0e59c",
   "metadata": {},
   "source": [
    "Pretty much good going well"
   ]
  },
  {
   "cell_type": "code",
   "execution_count": 170,
   "id": "bc7e7230",
   "metadata": {},
   "outputs": [],
   "source": [
    "new_ratings=ratings_data.merge(books_data,on='ISBN')\n",
    "\n",
    "#here we have merged our ratings_data with books_data on ISBN because it is present in both datasets"
   ]
  },
  {
   "cell_type": "code",
   "execution_count": 171,
   "id": "0b7da96f",
   "metadata": {},
   "outputs": [
    {
     "data": {
      "text/html": [
       "<div>\n",
       "<style scoped>\n",
       "    .dataframe tbody tr th:only-of-type {\n",
       "        vertical-align: middle;\n",
       "    }\n",
       "\n",
       "    .dataframe tbody tr th {\n",
       "        vertical-align: top;\n",
       "    }\n",
       "\n",
       "    .dataframe thead th {\n",
       "        text-align: right;\n",
       "    }\n",
       "</style>\n",
       "<table border=\"1\" class=\"dataframe\">\n",
       "  <thead>\n",
       "    <tr style=\"text-align: right;\">\n",
       "      <th></th>\n",
       "      <th>user_id</th>\n",
       "      <th>ISBN</th>\n",
       "      <th>ratings</th>\n",
       "      <th>title</th>\n",
       "      <th>author</th>\n",
       "      <th>publication</th>\n",
       "      <th>Publisher</th>\n",
       "      <th>image</th>\n",
       "    </tr>\n",
       "  </thead>\n",
       "  <tbody>\n",
       "    <tr>\n",
       "      <th>0</th>\n",
       "      <td>276925</td>\n",
       "      <td>002542730X</td>\n",
       "      <td>10</td>\n",
       "      <td>Politically Correct Bedtime Stories: Modern Ta...</td>\n",
       "      <td>James Finn Garner</td>\n",
       "      <td>1994</td>\n",
       "      <td>John Wiley &amp;amp; Sons Inc</td>\n",
       "      <td>http://images.amazon.com/images/P/002542730X.0...</td>\n",
       "    </tr>\n",
       "    <tr>\n",
       "      <th>1</th>\n",
       "      <td>277427</td>\n",
       "      <td>002542730X</td>\n",
       "      <td>10</td>\n",
       "      <td>Politically Correct Bedtime Stories: Modern Ta...</td>\n",
       "      <td>James Finn Garner</td>\n",
       "      <td>1994</td>\n",
       "      <td>John Wiley &amp;amp; Sons Inc</td>\n",
       "      <td>http://images.amazon.com/images/P/002542730X.0...</td>\n",
       "    </tr>\n",
       "    <tr>\n",
       "      <th>2</th>\n",
       "      <td>3363</td>\n",
       "      <td>002542730X</td>\n",
       "      <td>0</td>\n",
       "      <td>Politically Correct Bedtime Stories: Modern Ta...</td>\n",
       "      <td>James Finn Garner</td>\n",
       "      <td>1994</td>\n",
       "      <td>John Wiley &amp;amp; Sons Inc</td>\n",
       "      <td>http://images.amazon.com/images/P/002542730X.0...</td>\n",
       "    </tr>\n",
       "    <tr>\n",
       "      <th>3</th>\n",
       "      <td>10030</td>\n",
       "      <td>002542730X</td>\n",
       "      <td>7</td>\n",
       "      <td>Politically Correct Bedtime Stories: Modern Ta...</td>\n",
       "      <td>James Finn Garner</td>\n",
       "      <td>1994</td>\n",
       "      <td>John Wiley &amp;amp; Sons Inc</td>\n",
       "      <td>http://images.amazon.com/images/P/002542730X.0...</td>\n",
       "    </tr>\n",
       "    <tr>\n",
       "      <th>4</th>\n",
       "      <td>11676</td>\n",
       "      <td>002542730X</td>\n",
       "      <td>6</td>\n",
       "      <td>Politically Correct Bedtime Stories: Modern Ta...</td>\n",
       "      <td>James Finn Garner</td>\n",
       "      <td>1994</td>\n",
       "      <td>John Wiley &amp;amp; Sons Inc</td>\n",
       "      <td>http://images.amazon.com/images/P/002542730X.0...</td>\n",
       "    </tr>\n",
       "    <tr>\n",
       "      <th>...</th>\n",
       "      <td>...</td>\n",
       "      <td>...</td>\n",
       "      <td>...</td>\n",
       "      <td>...</td>\n",
       "      <td>...</td>\n",
       "      <td>...</td>\n",
       "      <td>...</td>\n",
       "      <td>...</td>\n",
       "    </tr>\n",
       "    <tr>\n",
       "      <th>604849</th>\n",
       "      <td>276680</td>\n",
       "      <td>089587167X</td>\n",
       "      <td>7</td>\n",
       "      <td>Something Blue</td>\n",
       "      <td>Jean Christopher Spaugh</td>\n",
       "      <td>1997</td>\n",
       "      <td>John F. Blair Publisher</td>\n",
       "      <td>http://images.amazon.com/images/P/089587167X.0...</td>\n",
       "    </tr>\n",
       "    <tr>\n",
       "      <th>604850</th>\n",
       "      <td>276680</td>\n",
       "      <td>1402201435</td>\n",
       "      <td>4</td>\n",
       "      <td>The One True Ocean</td>\n",
       "      <td>Sarah Beth Martin</td>\n",
       "      <td>2003</td>\n",
       "      <td>Sourcebooks Landmark</td>\n",
       "      <td>http://images.amazon.com/images/P/1402201435.0...</td>\n",
       "    </tr>\n",
       "    <tr>\n",
       "      <th>604851</th>\n",
       "      <td>276680</td>\n",
       "      <td>1564407284</td>\n",
       "      <td>0</td>\n",
       "      <td>The Old Sturbridge Village Cookbook, 2nd : Aut...</td>\n",
       "      <td>Caroline Sloat</td>\n",
       "      <td>1995</td>\n",
       "      <td>Globe Pequot</td>\n",
       "      <td>http://images.amazon.com/images/P/1564407284.0...</td>\n",
       "    </tr>\n",
       "    <tr>\n",
       "      <th>604852</th>\n",
       "      <td>276680</td>\n",
       "      <td>1582343594</td>\n",
       "      <td>0</td>\n",
       "      <td>City of Masks : A Cree Black Novel</td>\n",
       "      <td>Daniel Hecht</td>\n",
       "      <td>2004</td>\n",
       "      <td>Bloomsbury USA</td>\n",
       "      <td>http://images.amazon.com/images/P/1582343594.0...</td>\n",
       "    </tr>\n",
       "    <tr>\n",
       "      <th>604853</th>\n",
       "      <td>276680</td>\n",
       "      <td>1888173408</td>\n",
       "      <td>7</td>\n",
       "      <td>Fairy Tale (Common Reader Editions)</td>\n",
       "      <td>Alice Thomas Ellis</td>\n",
       "      <td>2001</td>\n",
       "      <td>Akadine Press</td>\n",
       "      <td>http://images.amazon.com/images/P/1888173408.0...</td>\n",
       "    </tr>\n",
       "  </tbody>\n",
       "</table>\n",
       "<p>604854 rows × 8 columns</p>\n",
       "</div>"
      ],
      "text/plain": [
       "        user_id        ISBN  ratings  \\\n",
       "0        276925  002542730X       10   \n",
       "1        277427  002542730X       10   \n",
       "2          3363  002542730X        0   \n",
       "3         10030  002542730X        7   \n",
       "4         11676  002542730X        6   \n",
       "...         ...         ...      ...   \n",
       "604849   276680  089587167X        7   \n",
       "604850   276680  1402201435        4   \n",
       "604851   276680  1564407284        0   \n",
       "604852   276680  1582343594        0   \n",
       "604853   276680  1888173408        7   \n",
       "\n",
       "                                                    title  \\\n",
       "0       Politically Correct Bedtime Stories: Modern Ta...   \n",
       "1       Politically Correct Bedtime Stories: Modern Ta...   \n",
       "2       Politically Correct Bedtime Stories: Modern Ta...   \n",
       "3       Politically Correct Bedtime Stories: Modern Ta...   \n",
       "4       Politically Correct Bedtime Stories: Modern Ta...   \n",
       "...                                                   ...   \n",
       "604849                                     Something Blue   \n",
       "604850                                 The One True Ocean   \n",
       "604851  The Old Sturbridge Village Cookbook, 2nd : Aut...   \n",
       "604852                 City of Masks : A Cree Black Novel   \n",
       "604853                Fairy Tale (Common Reader Editions)   \n",
       "\n",
       "                         author publication                  Publisher  \\\n",
       "0             James Finn Garner        1994  John Wiley &amp; Sons Inc   \n",
       "1             James Finn Garner        1994  John Wiley &amp; Sons Inc   \n",
       "2             James Finn Garner        1994  John Wiley &amp; Sons Inc   \n",
       "3             James Finn Garner        1994  John Wiley &amp; Sons Inc   \n",
       "4             James Finn Garner        1994  John Wiley &amp; Sons Inc   \n",
       "...                         ...         ...                        ...   \n",
       "604849  Jean Christopher Spaugh        1997    John F. Blair Publisher   \n",
       "604850        Sarah Beth Martin        2003       Sourcebooks Landmark   \n",
       "604851           Caroline Sloat        1995               Globe Pequot   \n",
       "604852             Daniel Hecht        2004             Bloomsbury USA   \n",
       "604853       Alice Thomas Ellis        2001              Akadine Press   \n",
       "\n",
       "                                                    image  \n",
       "0       http://images.amazon.com/images/P/002542730X.0...  \n",
       "1       http://images.amazon.com/images/P/002542730X.0...  \n",
       "2       http://images.amazon.com/images/P/002542730X.0...  \n",
       "3       http://images.amazon.com/images/P/002542730X.0...  \n",
       "4       http://images.amazon.com/images/P/002542730X.0...  \n",
       "...                                                   ...  \n",
       "604849  http://images.amazon.com/images/P/089587167X.0...  \n",
       "604850  http://images.amazon.com/images/P/1402201435.0...  \n",
       "604851  http://images.amazon.com/images/P/1564407284.0...  \n",
       "604852  http://images.amazon.com/images/P/1582343594.0...  \n",
       "604853  http://images.amazon.com/images/P/1888173408.0...  \n",
       "\n",
       "[604854 rows x 8 columns]"
      ]
     },
     "execution_count": 171,
     "metadata": {},
     "output_type": "execute_result"
    }
   ],
   "source": [
    "new_ratings"
   ]
  },
  {
   "cell_type": "code",
   "execution_count": 174,
   "id": "eb2222ef",
   "metadata": {},
   "outputs": [
    {
     "data": {
      "text/plain": [
       "(604854, 8)"
      ]
     },
     "execution_count": 174,
     "metadata": {},
     "output_type": "execute_result"
    }
   ],
   "source": [
    "new_ratings.shape"
   ]
  },
  {
   "cell_type": "code",
   "execution_count": 175,
   "id": "e92c82a1",
   "metadata": {},
   "outputs": [],
   "source": [
    "#shape before merging and after merging is not same it indicates that there were some missing values."
   ]
  },
  {
   "cell_type": "code",
   "execution_count": null,
   "id": "9aa6f814",
   "metadata": {},
   "outputs": [],
   "source": []
  },
  {
   "cell_type": "code",
   "execution_count": null,
   "id": "777b237b",
   "metadata": {},
   "outputs": [],
   "source": []
  }
 ],
 "metadata": {
  "kernelspec": {
   "display_name": "Python 3 (ipykernel)",
   "language": "python",
   "name": "python3"
  },
  "language_info": {
   "codemirror_mode": {
    "name": "ipython",
    "version": 3
   },
   "file_extension": ".py",
   "mimetype": "text/x-python",
   "name": "python",
   "nbconvert_exporter": "python",
   "pygments_lexer": "ipython3",
   "version": "3.9.13"
  }
 },
 "nbformat": 4,
 "nbformat_minor": 5
}
